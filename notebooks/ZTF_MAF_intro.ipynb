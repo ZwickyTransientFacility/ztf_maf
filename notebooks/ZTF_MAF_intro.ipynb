{
 "cells": [
  {
   "cell_type": "code",
   "execution_count": 1,
   "metadata": {
    "collapsed": false
   },
   "outputs": [],
   "source": [
    "import numpy as np\n",
    "import matplotlib.pyplot as plt\n",
    "%matplotlib inline\n",
    "\n",
    "import lsst.sims.maf.slicers as slicers\n",
    "import lsst.sims.maf.metrics as metrics\n",
    "import lsst.sims.maf.metricBundles as metricBundles\n",
    "import lsst.sims.maf.db as db"
   ]
  },
  {
   "cell_type": "code",
   "execution_count": 2,
   "metadata": {
    "collapsed": false
   },
   "outputs": [],
   "source": [
    "# hack to get the path right\n",
    "import sys\n",
    "sys.path.append('..')\n",
    "\n",
    "from ztf_maf.slicers import HealpixZTFSlicer"
   ]
  },
  {
   "cell_type": "code",
   "execution_count": 6,
   "metadata": {
    "collapsed": false
   },
   "outputs": [
    {
     "name": "stdout",
     "output_type": "stream",
     "text": [
      "Healpix slicer using NSIDE=64, approximate resolution 54.967783 arcminutes\n"
     ]
    }
   ],
   "source": [
    "slicer = HealpixZTFSlicer(nside=64, lonCol='fieldRA', latCol='fieldDec')\n",
    "#slicer = slicers.OpsimFieldSlicer()\n",
    "\n",
    "metricList = []\n",
    "\n",
    "m1 = metrics.IntraNightGapsMetric()\n",
    "metricList.append(m1)\n",
    "m2 = metrics.InterNightGapsMetric()\n",
    "metricList.append(m2)\n",
    "m3 = metrics.CountMetric(col='fieldRA')\n",
    "metricList.append(m3)\n",
    "\n",
    "\n",
    "filters = ['r','g']\n",
    "programs = [1,2,3]\n",
    "\n",
    "summaryMetrics = [metrics.MinMetric(), metrics.MeanMetric(), metrics.MaxMetric(), \n",
    "                  metrics.MedianMetric(), metrics.RmsMetric(), \n",
    "                 metrics.PercentileMetric(percentile=25), metrics.PercentileMetric(percentile=75)]\n",
    "\n",
    "   \n",
    "bDict={}\n",
    "for i,metric in enumerate(metricList):\n",
    "\n",
    "#    for j, filt in enumerate(filters):\n",
    "#        sqlconstraint = \"filter = '%s'\"%(filt)\n",
    "     for j, prog in enumerate(programs):\n",
    "         sqlconstraint = \"propID = '%s'\"%(prog)\n",
    "    \n",
    "         bDict[sqlconstraint+metric.name] = metricBundles.MetricBundle(metric, slicer, sqlconstraint, \n",
    "                                              summaryMetrics=summaryMetrics)"
   ]
  },
  {
   "cell_type": "code",
   "execution_count": null,
   "metadata": {
    "collapsed": false
   },
   "outputs": [
    {
     "name": "stdout",
     "output_type": "stream",
     "text": [
      "Querying database with constraint propID = '3'\n",
      "Found 15322 visits\n",
      "Running:  [\"propID = '3'Count fieldRA\", \"propID = '3'Median Intra-Night Gap\", \"propID = '3'Median Inter-Night Gap\"]\n"
     ]
    }
   ],
   "source": [
    "outDir = 'ZTF_test'\n",
    "ztfDB = db.OpsimDatabase('../sims/one_year_sim_incomplete.db',\n",
    "                        defaultdbTables={'Summary':['Summary','obsHistID']})\n",
    "ztfDB.raColName = 'fieldRA'\n",
    "ztfDB.decColName = 'fieldDec'\n",
    "\n",
    "resultsDb = db.ResultsDb(outDir=outDir)\n",
    "\n",
    "bgroup = metricBundles.MetricBundleGroup(bDict, ztfDB, outDir=outDir, resultsDb=resultsDb)\n",
    "bgroup.runAll()\n",
    "bgroup.plotAll(closefigs=False)"
   ]
  },
  {
   "cell_type": "code",
   "execution_count": 5,
   "metadata": {
    "collapsed": false
   },
   "outputs": [
    {
     "name": "stdout",
     "output_type": "stream",
     "text": [
      "propID = '1' Count fieldRA {'25th%ile': 38.0, 'Rms': 82.333984867768834, '75th%ile': 169.0, 'Min': 3.0, 'Max': 464.0, 'Median': 97.0, 'Mean': 109.54020007410152}\n",
      "propID = '2' Count fieldRA {'25th%ile': 30.0, 'Rms': 21.048755416512282, '75th%ile': 62.0, 'Min': 1.0, 'Max': 149.0, 'Median': 46.0, 'Mean': 45.220394843129021}\n",
      "propID = '3' Count fieldRA {'25th%ile': 12.0, 'Rms': 14.033336889114198, '75th%ile': 33.0, 'Min': 1.0, 'Max': 100.0, 'Median': 23.0, 'Mean': 23.521643240396326}\n"
     ]
    }
   ],
   "source": [
    "for key in sorted(bDict):\n",
    "    bDict[key].computeSummaryStats(resultsDb=resultsDb)\n",
    "    print key, bDict[key].metric.name, bDict[key].summaryValues"
   ]
  },
  {
   "cell_type": "code",
   "execution_count": null,
   "metadata": {
    "collapsed": true
   },
   "outputs": [],
   "source": []
  }
 ],
 "metadata": {
  "anaconda-cloud": {},
  "kernelspec": {
   "display_name": "Python [default]",
   "language": "python",
   "name": "python2"
  },
  "language_info": {
   "codemirror_mode": {
    "name": "ipython",
    "version": 2
   },
   "file_extension": ".py",
   "mimetype": "text/x-python",
   "name": "python",
   "nbconvert_exporter": "python",
   "pygments_lexer": "ipython2",
   "version": "2.7.12"
  }
 },
 "nbformat": 4,
 "nbformat_minor": 0
}
